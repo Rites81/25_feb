{
 "cells": [
  {
   "cell_type": "code",
   "execution_count": 1,
   "id": "a4c85ac2",
   "metadata": {},
   "outputs": [],
   "source": [
    "import pandas as pd\n",
    "course_name = ['Data Science', 'Machine Learning', 'Big Data', 'Data Engineer']\n",
    "duration = [2,3,6,4]\n",
    "df = pd.DataFrame(data = {'course_name' : course_name, 'duration' : duration})"
   ]
  },
  {
   "cell_type": "markdown",
   "id": "47ebc138",
   "metadata": {},
   "source": [
    "## Q1. Write a code to print the data present in the second row of the dataframe, df"
   ]
  },
  {
   "cell_type": "code",
   "execution_count": 7,
   "id": "3d1400eb",
   "metadata": {},
   "outputs": [
    {
     "name": "stdout",
     "output_type": "stream",
     "text": [
      "course_name    Machine Learning\n",
      "duration                      3\n",
      "Name: 1, dtype: object\n"
     ]
    }
   ],
   "source": [
    "second_row = df.iloc[1]\n",
    "print(second_row)"
   ]
  },
  {
   "cell_type": "code",
   "execution_count": 10,
   "id": "c4a790a4",
   "metadata": {},
   "outputs": [
    {
     "data": {
      "text/plain": [
       "course_name    Machine Learning\n",
       "duration                      3\n",
       "Name: 1, dtype: object"
      ]
     },
     "execution_count": 10,
     "metadata": {},
     "output_type": "execute_result"
    }
   ],
   "source": [
    "df.iloc[1]"
   ]
  },
  {
   "cell_type": "markdown",
   "id": "ab9ef130",
   "metadata": {},
   "source": [
    "## Q2. What is the difference between the functions loc and iloc in pandas.DataFrame?"
   ]
  },
  {
   "cell_type": "code",
   "execution_count": 13,
   "id": "99963af8",
   "metadata": {},
   "outputs": [
    {
     "name": "stdout",
     "output_type": "stream",
     "text": [
      "course_name    Machine Learning\n",
      "duration                      3\n",
      "Name: 1, dtype: object\n"
     ]
    }
   ],
   "source": [
    "## loc: Accesses rows and columns by labels or boolean arrays.\n",
    "pan=df.loc[1]\n",
    "print(pan)"
   ]
  },
  {
   "cell_type": "code",
   "execution_count": 15,
   "id": "0dd28bd7",
   "metadata": {},
   "outputs": [
    {
     "name": "stdout",
     "output_type": "stream",
     "text": [
      "course_name    Machine Learning\n",
      "duration                      3\n",
      "Name: 1, dtype: object\n"
     ]
    }
   ],
   "source": [
    "## iloc: Accesses rows and columns by integer location (position-based).\n",
    "pan=df.iloc[1]\n",
    "print(pan)"
   ]
  },
  {
   "cell_type": "markdown",
   "id": "e76ed974",
   "metadata": {},
   "source": [
    "### Q3. Reindex the given dataframe using a variable, reindex = [3,0,1,2] and store it in the variable, new_df then find the output for both new_df.loc[2] and new_df.iloc[2]."
   ]
  },
  {
   "cell_type": "code",
   "execution_count": 16,
   "id": "864422de",
   "metadata": {},
   "outputs": [],
   "source": [
    "import pandas as pd\n",
    "import numpy as np\n",
    "columns = ['column_1', 'columns_2', 'columns_3','columns_4','columns_5','columns_6']\n",
    "indices = [1,2,3,4,5,6]\n",
    "df1 = pd.DataFrame(np.random.rand(6,6), columns = columns, index = indices)"
   ]
  },
  {
   "cell_type": "code",
   "execution_count": 17,
   "id": "421a44e9",
   "metadata": {},
   "outputs": [
    {
     "data": {
      "text/html": [
       "<div>\n",
       "<style scoped>\n",
       "    .dataframe tbody tr th:only-of-type {\n",
       "        vertical-align: middle;\n",
       "    }\n",
       "\n",
       "    .dataframe tbody tr th {\n",
       "        vertical-align: top;\n",
       "    }\n",
       "\n",
       "    .dataframe thead th {\n",
       "        text-align: right;\n",
       "    }\n",
       "</style>\n",
       "<table border=\"1\" class=\"dataframe\">\n",
       "  <thead>\n",
       "    <tr style=\"text-align: right;\">\n",
       "      <th></th>\n",
       "      <th>column_1</th>\n",
       "      <th>columns_2</th>\n",
       "      <th>columns_3</th>\n",
       "      <th>columns_4</th>\n",
       "      <th>columns_5</th>\n",
       "      <th>columns_6</th>\n",
       "    </tr>\n",
       "  </thead>\n",
       "  <tbody>\n",
       "    <tr>\n",
       "      <th>1</th>\n",
       "      <td>0.315478</td>\n",
       "      <td>0.722543</td>\n",
       "      <td>0.971861</td>\n",
       "      <td>0.384343</td>\n",
       "      <td>0.413793</td>\n",
       "      <td>0.886946</td>\n",
       "    </tr>\n",
       "    <tr>\n",
       "      <th>2</th>\n",
       "      <td>0.240679</td>\n",
       "      <td>0.611487</td>\n",
       "      <td>0.985982</td>\n",
       "      <td>0.661051</td>\n",
       "      <td>0.055992</td>\n",
       "      <td>0.426181</td>\n",
       "    </tr>\n",
       "    <tr>\n",
       "      <th>3</th>\n",
       "      <td>0.373111</td>\n",
       "      <td>0.446691</td>\n",
       "      <td>0.846220</td>\n",
       "      <td>0.030754</td>\n",
       "      <td>0.664308</td>\n",
       "      <td>0.087809</td>\n",
       "    </tr>\n",
       "    <tr>\n",
       "      <th>4</th>\n",
       "      <td>0.138015</td>\n",
       "      <td>0.225779</td>\n",
       "      <td>0.101690</td>\n",
       "      <td>0.537625</td>\n",
       "      <td>0.896804</td>\n",
       "      <td>0.315893</td>\n",
       "    </tr>\n",
       "    <tr>\n",
       "      <th>5</th>\n",
       "      <td>0.134740</td>\n",
       "      <td>0.599350</td>\n",
       "      <td>0.877017</td>\n",
       "      <td>0.088243</td>\n",
       "      <td>0.980226</td>\n",
       "      <td>0.045886</td>\n",
       "    </tr>\n",
       "    <tr>\n",
       "      <th>6</th>\n",
       "      <td>0.045297</td>\n",
       "      <td>0.947660</td>\n",
       "      <td>0.655061</td>\n",
       "      <td>0.776350</td>\n",
       "      <td>0.435961</td>\n",
       "      <td>0.435501</td>\n",
       "    </tr>\n",
       "  </tbody>\n",
       "</table>\n",
       "</div>"
      ],
      "text/plain": [
       "   column_1  columns_2  columns_3  columns_4  columns_5  columns_6\n",
       "1  0.315478   0.722543   0.971861   0.384343   0.413793   0.886946\n",
       "2  0.240679   0.611487   0.985982   0.661051   0.055992   0.426181\n",
       "3  0.373111   0.446691   0.846220   0.030754   0.664308   0.087809\n",
       "4  0.138015   0.225779   0.101690   0.537625   0.896804   0.315893\n",
       "5  0.134740   0.599350   0.877017   0.088243   0.980226   0.045886\n",
       "6  0.045297   0.947660   0.655061   0.776350   0.435961   0.435501"
      ]
     },
     "execution_count": 17,
     "metadata": {},
     "output_type": "execute_result"
    }
   ],
   "source": [
    "df1"
   ]
  },
  {
   "cell_type": "markdown",
   "id": "b3fe69c8",
   "metadata": {},
   "source": [
    "## Q4. Write a code to find the following statistical measurements for the above dataframe df1:\n",
    "\n",
    "### (i) mean of each and every column present in the dataframe.\n",
    "\n",
    "### (ii) standard deviation of column, ‘column_2’"
   ]
  },
  {
   "cell_type": "code",
   "execution_count": 22,
   "id": "235988f6",
   "metadata": {},
   "outputs": [
    {
     "name": "stdout",
     "output_type": "stream",
     "text": [
      "column_1     0.207887\n",
      "columns_2    0.592251\n",
      "columns_3    0.739638\n",
      "columns_4    0.413061\n",
      "columns_5    0.574514\n",
      "columns_6    0.366369\n",
      "dtype: float64\n"
     ]
    }
   ],
   "source": [
    "mean_value = df1.mean()\n",
    "print(mean_value)"
   ]
  },
  {
   "cell_type": "code",
   "execution_count": 23,
   "id": "db00e532",
   "metadata": {},
   "outputs": [
    {
     "data": {
      "text/plain": [
       "column_1     0.123789\n",
       "columns_2    0.244623\n",
       "columns_3    0.334358\n",
       "columns_4    0.303804\n",
       "columns_5    0.343636\n",
       "columns_6    0.304043\n",
       "dtype: float64"
      ]
     },
     "execution_count": 23,
     "metadata": {},
     "output_type": "execute_result"
    }
   ],
   "source": [
    "std = df1.std()\n",
    "std"
   ]
  },
  {
   "cell_type": "code",
   "execution_count": 26,
   "id": "817c9465",
   "metadata": {},
   "outputs": [
    {
     "name": "stdout",
     "output_type": "stream",
     "text": [
      "0.2446227798866504\n"
     ]
    }
   ],
   "source": [
    "std_col2 = df1['columns_2'].std()\n",
    "print(std_col2)"
   ]
  },
  {
   "cell_type": "markdown",
   "id": "cd83c463",
   "metadata": {},
   "source": [
    "### Q5. Replace the data present in the second row of column, ‘column_2’ by a string variable then find the mean of column, column_2.\n",
    "\n",
    "#### If you are getting errors in executing it then explain why."
   ]
  },
  {
   "cell_type": "code",
   "execution_count": 27,
   "id": "a876aa7a",
   "metadata": {},
   "outputs": [
    {
     "name": "stdout",
     "output_type": "stream",
     "text": [
      "Error: unsupported operand type(s) for +: 'int' and 'str'\n"
     ]
    }
   ],
   "source": [
    "df1.loc[2, 'column_2'] = 'string_value'\n",
    "\n",
    "\n",
    "try:\n",
    "    mean_column_2 = df1['column_2'].mean()\n",
    "except TypeError as e:\n",
    "    print(f\"Error: {e}\")"
   ]
  },
  {
   "cell_type": "markdown",
   "id": "e13a31f3",
   "metadata": {},
   "source": [
    "### Q6. What do you understand about the windows function in pandas and list the types of windows functions?"
   ]
  },
  {
   "cell_type": "markdown",
   "id": "4f8f291d",
   "metadata": {},
   "source": [
    "#### Windows functions perform calculations across a sliding window of values. Types include:\n",
    "\n",
    "#### Rolling: Moving window operations (e.g., rolling mean).\n",
    "#### Expanding: Expanding window operations (e.g., cumulative sum).\n",
    "#### Exponentially Weighted: Weighted window operations (e.g., exponentially weighted moving average)"
   ]
  },
  {
   "cell_type": "markdown",
   "id": "afdf3336",
   "metadata": {},
   "source": [
    "## Q7. Write a code to print only the current month and year at the time of answering this question."
   ]
  },
  {
   "cell_type": "code",
   "execution_count": 28,
   "id": "82042302",
   "metadata": {},
   "outputs": [
    {
     "name": "stdout",
     "output_type": "stream",
     "text": [
      "July 2024\n"
     ]
    }
   ],
   "source": [
    "import pandas as pd\n",
    "current_month_year = pd.Timestamp.now().strftime('%B %Y')\n",
    "print(current_month_year)"
   ]
  },
  {
   "cell_type": "markdown",
   "id": "f45bfe78",
   "metadata": {},
   "source": [
    "### Q8. Write a Python program that takes in two dates as input (in the format YYYY-MM-DD) and calculates the difference between them in days, hours, and minutes using Pandas time delta. The program should prompt the user to enter the dates and display the result."
   ]
  },
  {
   "cell_type": "code",
   "execution_count": 29,
   "id": "c144824c",
   "metadata": {},
   "outputs": [
    {
     "name": "stdout",
     "output_type": "stream",
     "text": [
      "Enter the first date (YYYY-MM-DD): 2024-07-23\n",
      "Enter the second date (YYYY-MM-DD): 2024-07-24\n",
      "The difference between the dates is 1 days, 0 hours, and 0 minutes.\n"
     ]
    }
   ],
   "source": [
    "import pandas as pd\n",
    "\n",
    "def calculate_date_difference(date1_str, date2_str):\n",
    "    date1 = pd.to_datetime(date1_str)\n",
    "    date2 = pd.to_datetime(date2_str)\n",
    "    \n",
    "    time_difference = date2 - date1\n",
    "    \n",
    "    \n",
    "    days = time_difference.days\n",
    "    hours, remainder = divmod(time_difference.seconds, 3600)\n",
    "    minutes, seconds = divmod(remainder, 60)\n",
    "    \n",
    "    return days, hours, minutes\n",
    "\n",
    "def main():\n",
    "    \n",
    "    date1_str = input(\"Enter the first date (YYYY-MM-DD): \")\n",
    "    date2_str = input(\"Enter the second date (YYYY-MM-DD): \")\n",
    "    \n",
    "\n",
    "    days, hours, minutes = calculate_date_difference(date1_str, date2_str)\n",
    "    \n",
    "    \n",
    "    print(f\"The difference between the dates is {days} days, {hours} hours, and {minutes} minutes.\")\n",
    "\n",
    "if __name__ == \"__main__\":\n",
    "    main()\n"
   ]
  },
  {
   "cell_type": "markdown",
   "id": "bf84e1c2",
   "metadata": {},
   "source": [
    "### Q9. Write a Python program that reads a CSV file containing categorical data and converts a specified column to a categorical data type. The program should prompt the user to enter the file path, column name, and category order, and then display the sorted data.\n",
    "\n"
   ]
  },
  {
   "cell_type": "code",
   "execution_count": null,
   "id": "9f2469f0",
   "metadata": {},
   "outputs": [],
   "source": [
    "import pandas as pd\n",
    "\n",
    "def convert_to_categorical(file_path, column_name, category_order):\n",
    "    # Read the CSV file\n",
    "    df = pd.read_csv(file_path)\n",
    "    \n",
    "    # Convert the specified column to a categorical type with the given order\n",
    "    df[column_name] = pd.Categorical(df[column_name], categories=category_order, ordered=True)\n",
    "    \n",
    "    # Sort the DataFrame by the categorical column\n",
    "    df_sorted = df.sort_values(by=column_name)\n",
    "    \n",
    "    # Display the sorted DataFrame\n",
    "    print(df_sorted)\n",
    "\n",
    "def main():\n",
    "    # Prompt the user to enter the file path, column name, and category order\n",
    "    file_path = input(\"Enter the file path: \")\n",
    "    column_name = input(\"Enter the column name: \")\n",
    "    category_order = input(\"Enter the category order (comma-separated): \").split(',')\n",
    "    \n",
    "    # Convert the specified column to categorical and display the sorted data\n",
    "    convert_to_categorical(file_path, column_name, category_order)\n",
    "\n",
    "if __name__ == \"__main__\":\n",
    "    main()\n"
   ]
  },
  {
   "cell_type": "markdown",
   "id": "3e839287",
   "metadata": {},
   "source": [
    "### Q10. Write a Python program that reads a CSV file containing sales data for different products and visualizes the data using a stacked bar chart to show the sales of each product category over time. The program should prompt the user to enter the file path and display the chart."
   ]
  },
  {
   "cell_type": "code",
   "execution_count": null,
   "id": "4b23cf77",
   "metadata": {},
   "outputs": [],
   "source": [
    "import pandas as pd\n",
    "import matplotlib.pyplot as plt\n",
    "\n",
    "def plot_sales_data(file_path):\n",
    "    # Read the CSV file\n",
    "    df = pd.read_csv(file_path)\n",
    "    \n",
    "    # Ensure that the DataFrame has the necessary columns\n",
    "    if 'Date' not in df.columns or 'Category' not in df.columns or 'Sales' not in df.columns:\n",
    "        print(\"The CSV file must contain 'Date', 'Category', and 'Sales' columns.\")\n",
    "        return\n",
    "    \n",
    "    # Convert 'Date' column to datetime\n",
    "    df['Date'] = pd.to_datetime(df['Date'])\n",
    "    \n",
    "    # Pivot the DataFrame to get sales data for each category over time\n",
    "    df_pivot = df.pivot_table(values='Sales', index='Date', columns='Category', aggfunc='sum', fill_value=0)\n",
    "    \n",
    "    # Plot the stacked bar chart\n",
    "    df_pivot.plot(kind='bar', stacked=True, figsize=(10, 7))\n",
    "    \n",
    "    # Set plot labels and title\n",
    "    plt.xlabel('Date')\n",
    "    plt.ylabel('Sales')\n",
    "    plt.title('Sales of Each Product Category Over Time')\n",
    "    plt.legend(title='Category')\n",
    "    \n",
    "    # Display the plot\n",
    "    plt.show()\n",
    "\n",
    "def main():\n",
    "    # Prompt the user to enter the file path\n",
    "    file_path = input(\"Enter the file path: \")\n",
    "    \n",
    "    # Plot the sales data\n",
    "    plot_sales_data(file_path)\n",
    "\n",
    "if __name__ == \"__main__\":\n",
    "    main()\n"
   ]
  },
  {
   "cell_type": "markdown",
   "id": "e8976440",
   "metadata": {},
   "source": [
    "### Q11. You are given a CSV file containing student data that includes the student ID and their test score. Write a Python program that reads the CSV file, calculates the mean, median, and mode of the test scores, and displays the results in a table.\n",
    "#### The program should do the followingM\n",
    "I Prompt the user to enter the file path of the CSV file containing the student data\n",
    "I Read the CSV file into a Pandas DataFrame\n",
    "I Calculate the mean, median, and mode of the test scores using Pandas tools\n",
    "I Display the mean, median, and mode in a table.\n",
    "\n",
    "Assume the CSV file contains the following columns\n",
    "I Student ID: The ID of the student\n",
    "I Test Score: The score of the student's test.\n",
    "Example usage of the program:\n",
    "\n",
    "Enter the file path of the CSV file containing the student data: student_data.csv\n",
    "\n",
    "\n",
    "+-----------+--------+\n",
    "\n",
    "| Statistic | Value  |\n",
    "\n",
    "+-----------+--------+\n",
    "\n",
    "| Mean      | 79.6   |\n",
    "\n",
    "| Median    | 82     |\n",
    "\n",
    "| Mode      | 85, 90 |\n",
    "\n",
    "+-----------+--------+\n",
    "\n",
    "\n",
    "Assume that the CSV file student_data.csv contains the following data:\n",
    "\n",
    "Student ID,Test Score\n",
    "\n",
    "1,85\n",
    "\n",
    "2,90\n",
    "\n",
    "3,80\n",
    "\n",
    "4,75\n",
    "\n",
    "5,85\n",
    "\n",
    "6,82\n",
    "\n",
    "7,78\n",
    "\n",
    "8,85\n",
    "\n",
    "9,90\n",
    "\n",
    "10,85\n",
    "\n",
    "\n",
    "The program should calculate the mean, median, and mode of the test scores and display the results \n",
    "in a table."
   ]
  },
  {
   "cell_type": "markdown",
   "id": "9bfca5af",
   "metadata": {},
   "source": [
    "import pandas as pd\n",
    "from statistics import mode, StatisticsError\n",
    "from tabulate import tabulate\n",
    "\n",
    "def calculate_statistics(file_path):\n",
    "    # Read the CSV file into a DataFrame\n",
    "    df = pd.read_csv(file_path)\n",
    "    \n",
    "    # Calculate mean, median, and mode of the test scores\n",
    "    mean_score = df['Test Score'].mean()\n",
    "    median_score = df['Test Score'].median()\n",
    "    \n",
    "    try:\n",
    "        mode_score = mode(df['Test Score'])\n",
    "    except StatisticsError:\n",
    "        mode_score = df['Test Score'].mode().tolist()  # Handle multiple modes\n",
    "    \n",
    "    return mean_score, median_score, mode_score\n",
    "\n",
    "def display_statistics(mean, median, mode):\n",
    "    # Prepare data for the table\n",
    "    data = [\n",
    "        [\"Mean\", mean],\n",
    "        [\"Median\", median],\n",
    "        [\"Mode\", \", \".join(map(str, mode)) if isinstance(mode, list) else mode]\n",
    "    ]\n",
    "    \n",
    "    # Display the table\n",
    "    print(tabulate(data, headers=[\"Statistic\", \"Value\"], tablefmt=\"grid\"))\n",
    "\n",
    "def main():\n",
    "    # Prompt the user to enter the file path\n",
    "    file_path = input(\"Enter the file path of the CSV file containing the student data: \")\n",
    "    \n",
    "    # Calculate statistics\n",
    "    mean_score, median_score, mode_score = calculate_statistics(file_path)\n",
    "    \n",
    "    # Display the statistics in a table\n",
    "    display_statistics(mean_score, median_score, mode_score)\n",
    "\n",
    "if __name__ == \"__main__\":\n",
    "    main()\n"
   ]
  },
  {
   "cell_type": "code",
   "execution_count": 32,
   "id": "081bd3e1",
   "metadata": {},
   "outputs": [
    {
     "name": "stdout",
     "output_type": "stream",
     "text": [
      "Collecting tabulate\n",
      "  Downloading tabulate-0.9.0-py3-none-any.whl.metadata (34 kB)\n",
      "Downloading tabulate-0.9.0-py3-none-any.whl (35 kB)\n",
      "Installing collected packages: tabulate\n",
      "Successfully installed tabulate-0.9.0\n",
      "Note: you may need to restart the kernel to use updated packages.\n"
     ]
    },
    {
     "name": "stderr",
     "output_type": "stream",
     "text": [
      "\n",
      "[notice] A new release of pip is available: 23.3.1 -> 24.2\n",
      "[notice] To update, run: python.exe -m pip install --upgrade pip\n"
     ]
    }
   ],
   "source": [
    "pip install tabulate\n"
   ]
  },
  {
   "cell_type": "code",
   "execution_count": null,
   "id": "411302aa",
   "metadata": {},
   "outputs": [],
   "source": []
  }
 ],
 "metadata": {
  "kernelspec": {
   "display_name": "Python 3 (ipykernel)",
   "language": "python",
   "name": "python3"
  },
  "language_info": {
   "codemirror_mode": {
    "name": "ipython",
    "version": 3
   },
   "file_extension": ".py",
   "mimetype": "text/x-python",
   "name": "python",
   "nbconvert_exporter": "python",
   "pygments_lexer": "ipython3",
   "version": "3.10.10"
  }
 },
 "nbformat": 4,
 "nbformat_minor": 5
}
